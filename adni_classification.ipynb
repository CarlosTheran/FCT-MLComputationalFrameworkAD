{
  "cells": [
    {
      "cell_type": "code",
      "execution_count": null,
      "metadata": {
        "id": "2lNeEiay2Je9"
      },
      "outputs": [],
      "source": [
        "import pandas as pd\n",
        "import numpy as np\n",
        "import pickle\n",
        "from itertools import product, cycle\n",
        "\n",
        "\n",
        "import matplotlib.pyplot as plt\n",
        "import seaborn as sns\n",
        "\n",
        "\n",
        "# importing standariztion function\n",
        "from sklearn import preprocessing\n",
        "from mlxtend.plotting import plot_decision_regions\n",
        "\n",
        "#importing imputation methods\n",
        "from sklearn.impute import KNNImputer\n",
        "from sklearn.experimental import enable_iterative_imputer\n",
        "from sklearn.impute import IterativeImputer\n",
        "from sklearn.linear_model import LinearRegression\n",
        "\n",
        "# importing classifiers and tools\n",
        "from sklearn.tree import DecisionTreeClassifier\n",
        "from sklearn.neighbors import KNeighborsClassifier\n",
        "from sklearn.svm import SVC\n",
        "from sklearn.ensemble import VotingClassifier\n",
        "from sklearn.ensemble import BaggingClassifier\n",
        "from sklearn.tree import ExtraTreeClassifier\n",
        "from xgboost import XGBClassifier\n",
        "from sklearn.ensemble import RandomForestClassifier\n",
        "from sklearn.linear_model import RidgeClassifier\n",
        "from sklearn.ensemble import GradientBoostingClassifier\n",
        "from sklearn.ensemble import AdaBoostClassifier\n",
        "from sklearn.neural_network import MLPClassifier\n",
        "from sklearn.linear_model import SGDClassifier\n",
        "from sklearn import metrics\n",
        "from sklearn.impute import MissingIndicator\n",
        "from sklearn.model_selection import train_test_split\n",
        "from sklearn.metrics import accuracy_score, confusion_matrix, classification_report, roc_curve, auc, roc_auc_score\n",
        "from sklearn.model_selection import KFold, StratifiedKFold, cross_val_score, cross_validate, cross_val_predict\n",
        "from sklearn.pipeline import make_pipeline\n",
        "from sklearn.preprocessing import StandardScaler, MinMaxScaler, label_binarize\n",
        "from sklearn.multiclass import OneVsRestClassifier\n",
        "\n",
        "import warnings\n",
        "warnings.filterwarnings(\"ignore\")"
      ]
    },
    {
      "cell_type": "code",
      "execution_count": null,
      "metadata": {
        "id": "J0dxY4nal1MR"
      },
      "outputs": [],
      "source": [
        "# function for cross validation using stratified K-Fold method\n",
        "def cross_validation(model, X, y):\n",
        "    \n",
        "    random_state = np.random.RandomState(0)\n",
        "    _cv = StratifiedKFold(n_splits=10, shuffle=True, random_state=random_state)\n",
        "    _scoring = ['accuracy','precision_weighted', 'recall_weighted', 'f1_weighted']\n",
        "    results = cross_validate(estimator=model,\n",
        "                              X=X,\n",
        "                              y=y,\n",
        "                              cv=_cv,\n",
        "                              scoring=_scoring,\n",
        "                              return_train_score=True)\n",
        "    \n",
        "    return {\"Training Accuracy scores\": results['train_accuracy'],\n",
        "          \"Mean Training Accuracy\": results['train_accuracy'].mean()*100,\n",
        "          \"Training Precision scores\": results['train_precision_weighted'],\n",
        "          \"Mean Training Precision\": results['train_precision_weighted'].mean(),\n",
        "          \"Training Recall scores\": results['train_recall_weighted'],\n",
        "          \"Mean Training Recall\": results['train_recall_weighted'].mean(),\n",
        "          \"Training F1 scores\": results['train_f1_weighted'],\n",
        "          \"Mean Training F1 Score\": results['train_f1_weighted'].mean(),\n",
        "          \"Validation Accuracy scores\": results['test_accuracy'],\n",
        "          \"Mean Validation Accuracy\": results['test_accuracy'].mean()*100,\n",
        "          \"Validation Precision scores\": results['test_precision_weighted'],\n",
        "          \"Mean Validation Precision\": results['test_precision_weighted'].mean(),\n",
        "          \"Validation Recall scores\": results['test_recall_weighted'],\n",
        "          \"Mean Validation Recall\": results['test_recall_weighted'].mean(),\n",
        "          \"Validation F1 scores\": results['test_f1_weighted'],\n",
        "          \"Mean Validation F1 Score\": results['test_f1_weighted'].mean(),\n",
        "          }\n"
      ]
    },
    {
      "cell_type": "code",
      "execution_count": null,
      "metadata": {
        "id": "NG6c39Dgl1MV"
      },
      "outputs": [],
      "source": [
        "# Specify the imputation method: knn, median, linear regress\n",
        "imput_meth = 'knn'"
      ]
    },
    {
      "cell_type": "code",
      "execution_count": null,
      "metadata": {
        "id": "A5Vh2JiK2JfU"
      },
      "outputs": [],
      "source": [
        "# read in data\n",
        "if imput_meth == 'knn':\n",
        "    data = pd.read_csv('knn_imputed_data.csv')\n",
        "elif imputed_meth == 'median':\n",
        "    data = pd.read_csv('median_imputed_data.csv')\n",
        "elif imputed_meth == 'linear regression':\n",
        "    data = pd.read_csv('lr_imputed_data.csv')"
      ]
    },
    {
      "cell_type": "code",
      "execution_count": null,
      "metadata": {
        "id": "qK5-KOa72JfW"
      },
      "outputs": [],
      "source": [
        "# Reset the index\n",
        "data = data.reset_index(drop=True)\n",
        "\n",
        "# Seperate X and y\n",
        "X = data.drop(['DX_bl'], axis = 1).to_numpy()\n",
        "y = data[['DX_bl']]"
      ]
    },
    {
      "cell_type": "code",
      "execution_count": null,
      "metadata": {
        "id": "XW2uSRktl1MY"
      },
      "outputs": [],
      "source": [
        "clf1 = classifier = OneVsRestClassifier(make_pipeline(MinMaxScaler(), DecisionTreeClassifier(max_depth = 32)))\n",
        "clf2 = classifier = OneVsRestClassifier(make_pipeline(MinMaxScaler(), SVC(probability = True)))\n",
        "clf3 = classifier = OneVsRestClassifier(make_pipeline(MinMaxScaler(), XGBClassifier(objective = 'multi:softprob', learning_rate = 0.5, max_depth = 5, n_estimators = 180, num_class=4)))\n",
        "clf4 = classifier = OneVsRestClassifier(make_pipeline(MinMaxScaler(), RandomForestClassifier()))\n",
        "clf5 = classifier = OneVsRestClassifier(make_pipeline(MinMaxScaler(), MLPClassifier(random_state=1,hidden_layer_sizes=(150,100,50), max_iter=300,activation = 'relu',solver='adam')))"
      ]
    },
    {
      "cell_type": "code",
      "execution_count": null,
      "metadata": {
        "id": "jO4p7N5wojJy"
      },
      "outputs": [],
      "source": [
        "DT_result = cross_validation(clf1, X, y)\n",
        "SVC_result = cross_validation(clf2, X, y)\n",
        "XGB_result = cross_validation(clf3, X, y)\n",
        "RF_result = cross_validation(clf4, X, y)\n",
        "MLP_result = cross_validation(clf5, X, y)"
      ]
    },
    {
      "cell_type": "code",
      "execution_count": null,
      "metadata": {
        "colab": {
          "base_uri": "https://localhost:8080/"
        },
        "id": "AgB1DUrszB2b",
        "outputId": "6b2ea537-0d8a-4daf-c01b-e40c6c589155"
      },
      "outputs": [
        {
          "output_type": "execute_result",
          "data": {
            "text/plain": [
              "{'Mean Training Accuracy': 100.0,\n",
              " 'Mean Training F1 Score': 1.0,\n",
              " 'Mean Training Precision': 1.0,\n",
              " 'Mean Training Recall': 1.0,\n",
              " 'Mean Validation Accuracy': 99.58274708043179,\n",
              " 'Mean Validation F1 Score': 0.9958291271296229,\n",
              " 'Mean Validation Precision': 0.9958530992778105,\n",
              " 'Mean Validation Recall': 0.9958274708043179,\n",
              " 'Training Accuracy scores': array([1., 1., 1., 1., 1., 1., 1., 1., 1., 1.]),\n",
              " 'Training F1 scores': array([1., 1., 1., 1., 1., 1., 1., 1., 1., 1.]),\n",
              " 'Training Precision scores': array([1., 1., 1., 1., 1., 1., 1., 1., 1., 1.]),\n",
              " 'Training Recall scores': array([1., 1., 1., 1., 1., 1., 1., 1., 1., 1.]),\n",
              " 'Validation Accuracy scores': array([0.99620925, 0.99772555, 0.9939302 , 0.99620637, 0.99468892,\n",
              "        0.9969651 , 0.9969651 , 0.99620637, 0.9939302 , 0.99544765]),\n",
              " 'Validation F1 scores': array([0.99621766, 0.99773022, 0.99393297, 0.99620509, 0.99469458,\n",
              "        0.99696644, 0.99696615, 0.99620227, 0.99392695, 0.99544895]),\n",
              " 'Validation Precision scores': array([0.99624479, 0.9977522 , 0.99398477, 0.99621293, 0.99474616,\n",
              "        0.996977  , 0.99697107, 0.99623315, 0.99395196, 0.99545696]),\n",
              " 'Validation Recall scores': array([0.99620925, 0.99772555, 0.9939302 , 0.99620637, 0.99468892,\n",
              "        0.9969651 , 0.9969651 , 0.99620637, 0.9939302 , 0.99544765])}"
            ]
          },
          "metadata": {},
          "execution_count": 19
        }
      ],
      "source": [
        "DT_result"
      ]
    },
    {
      "cell_type": "code",
      "execution_count": null,
      "metadata": {
        "colab": {
          "base_uri": "https://localhost:8080/"
        },
        "id": "HUISJLRizjAq",
        "outputId": "89f81bb6-a593-4d80-e59b-a7a8b24523b3"
      },
      "outputs": [
        {
          "data": {
            "text/plain": [
              "{'Mean Training Accuracy': 98.76936513451021,\n",
              " 'Mean Training F1 Score': 0.9877195791449139,\n",
              " 'Mean Training Precision': 0.9878433692401268,\n",
              " 'Mean Training Recall': 0.9876936513451021,\n",
              " 'Mean Validation Accuracy': 98.05036923866312,\n",
              " 'Mean Validation F1 Score': 0.9805525788168513,\n",
              " 'Mean Validation Precision': 0.9808373047659286,\n",
              " 'Mean Validation Recall': 0.9805036923866313,\n",
              " 'Training Accuracy scores': array([0.98752424, 0.98727135, 0.98685098, 0.98651382, 0.98853675,\n",
              "        0.98752529, 0.98769386, 0.98676669, 0.99022252, 0.98803102]),\n",
              " 'Training F1 scores': array([0.98755001, 0.98730483, 0.98687753, 0.9865484 , 0.98855993,\n",
              "        0.98755166, 0.98771549, 0.98680206, 0.99023591, 0.98804997]),\n",
              " 'Training Precision scores': array([0.98767526, 0.98747502, 0.98701345, 0.98669966, 0.98865562,\n",
              "        0.98769341, 0.9878268 , 0.98695831, 0.99031112, 0.98812504]),\n",
              " 'Training Recall scores': array([0.98752424, 0.98727135, 0.98685098, 0.98651382, 0.98853675,\n",
              "        0.98752529, 0.98769386, 0.98676669, 0.99022252, 0.98803102]),\n",
              " 'Validation Accuracy scores': array([0.9757392 , 0.98559515, 0.97799697, 0.97799697, 0.98482549,\n",
              "        0.98027314, 0.98710167, 0.97799697, 0.98254932, 0.97496206]),\n",
              " 'Validation F1 scores': array([0.97585805, 0.98565724, 0.97802164, 0.97803405, 0.98485764,\n",
              "        0.98033399, 0.98712792, 0.97807059, 0.98255519, 0.97500948]),\n",
              " 'Validation Precision scores': array([0.97621251, 0.98612417, 0.97812386, 0.9783463 , 0.98507017,\n",
              "        0.98070775, 0.98721273, 0.97847388, 0.98292679, 0.97517488]),\n",
              " 'Validation Recall scores': array([0.9757392 , 0.98559515, 0.97799697, 0.97799697, 0.98482549,\n",
              "        0.98027314, 0.98710167, 0.97799697, 0.98254932, 0.97496206])}"
            ]
          },
          "execution_count": 37,
          "metadata": {},
          "output_type": "execute_result"
        }
      ],
      "source": [
        "SVC_result"
      ]
    },
    {
      "cell_type": "code",
      "execution_count": null,
      "metadata": {
        "colab": {
          "base_uri": "https://localhost:8080/"
        },
        "id": "Q98INXHMzEcf",
        "outputId": "81c98a05-2d4f-49e0-96f8-96b7409d831c"
      },
      "outputs": [
        {
          "data": {
            "text/plain": [
              "{'Training Accuracy scores': array([1., 1., 1., 1., 1., 1., 1., 1., 1., 1.]),\n",
              " 'Mean Training Accuracy': 100.0,\n",
              " 'Training Precision scores': array([1., 1., 1., 1., 1., 1., 1., 1., 1., 1.]),\n",
              " 'Mean Training Precision': 1.0,\n",
              " 'Training Recall scores': array([1., 1., 1., 1., 1., 1., 1., 1., 1., 1.]),\n",
              " 'Mean Training Recall': 1.0,\n",
              " 'Training F1 scores': array([1., 1., 1., 1., 1., 1., 1., 1., 1., 1.]),\n",
              " 'Mean Training F1 Score': 1.0,\n",
              " 'Validation Accuracy scores': array([0.99772555, 0.99772555, 0.99620637, 0.99848255, 0.9969651 ,\n",
              "        0.99924127, 0.99924127, 0.99620637, 0.99772382, 0.99620637]),\n",
              " 'Mean Validation Accuracy': 99.75724240440577,\n",
              " 'Validation Precision scores': array([0.99773152, 0.99773588, 0.99621285, 0.99848411, 0.99698205,\n",
              "        0.99924426, 0.99924426, 0.99620762, 0.99773102, 0.99621573]),\n",
              " 'Mean Validation Precision': 0.9975789292699245,\n",
              " 'Validation Recall scores': array([0.99772555, 0.99772555, 0.99620637, 0.99848255, 0.9969651 ,\n",
              "        0.99924127, 0.99924127, 0.99620637, 0.99772382, 0.99620637]),\n",
              " 'Mean Validation Recall': 0.9975724240440578,\n",
              " 'Validation F1 scores': array([0.9977274 , 0.99772617, 0.99620397, 0.99848174, 0.99695806,\n",
              "        0.99924163, 0.99924163, 0.996198  , 0.9977226 , 0.99620757]),\n",
              " 'Mean Validation F1 Score': 0.9975708788008492}"
            ]
          },
          "execution_count": 43,
          "metadata": {},
          "output_type": "execute_result"
        }
      ],
      "source": [
        "XGB_result"
      ]
    },
    {
      "cell_type": "code",
      "execution_count": null,
      "metadata": {
        "colab": {
          "base_uri": "https://localhost:8080/"
        },
        "id": "dqb4SBBEzUuw",
        "outputId": "10d2b4c5-0c79-4cd4-9489-9c311f7aa449"
      },
      "outputs": [
        {
          "data": {
            "text/plain": [
              "{'Training Accuracy scores': array([1., 1., 1., 1., 1., 1., 1., 1., 1., 1.]),\n",
              " 'Mean Training Accuracy': 100.0,\n",
              " 'Training Precision scores': array([1., 1., 1., 1., 1., 1., 1., 1., 1., 1.]),\n",
              " 'Mean Training Precision': 1.0,\n",
              " 'Training Recall scores': array([1., 1., 1., 1., 1., 1., 1., 1., 1., 1.]),\n",
              " 'Mean Training Recall': 1.0,\n",
              " 'Training F1 scores': array([1., 1., 1., 1., 1., 1., 1., 1., 1., 1.]),\n",
              " 'Mean Training F1 Score': 1.0,\n",
              " 'Validation Accuracy scores': array([0.99772555, 0.9984837 , 0.99468892, 0.99772382, 0.99772382,\n",
              "        0.99848255, 0.99848255, 0.99544765, 0.99620637, 0.99772382]),\n",
              " 'Mean Validation Accuracy': 99.72688763847168,\n",
              " 'Validation Precision scores': array([0.99773152, 0.99849559, 0.9947122 , 0.99772703, 0.99773303,\n",
              "        0.99849445, 0.99849445, 0.99545664, 0.99620685, 0.99772682]),\n",
              " 'Mean Validation Precision': 0.997277857992518,\n",
              " 'Validation Recall scores': array([0.99772555, 0.9984837 , 0.99468892, 0.99772382, 0.99772382,\n",
              "        0.99848255, 0.99848255, 0.99544765, 0.99620637, 0.99772382]),\n",
              " 'Mean Validation Recall': 0.9972688763847168,\n",
              " 'Validation F1 scores': array([0.9977274 , 0.99848512, 0.99468625, 0.99772193, 0.99771529,\n",
              "        0.99848397, 0.99848397, 0.9954382 , 0.99620197, 0.99772338]),\n",
              " 'Mean Validation F1 Score': 0.9972667496194187}"
            ]
          },
          "execution_count": 45,
          "metadata": {},
          "output_type": "execute_result"
        }
      ],
      "source": [
        "RF_result"
      ]
    },
    {
      "cell_type": "code",
      "execution_count": null,
      "metadata": {
        "colab": {
          "base_uri": "https://localhost:8080/"
        },
        "id": "gntuNHvzzaIZ",
        "outputId": "8a52d3d6-3a0d-479a-aa95-e93457c081bf"
      },
      "outputs": [
        {
          "data": {
            "text/plain": [
              "{'Training Accuracy scores': array([1., 1., 1., 1., 1., 1., 1., 1., 1., 1.]),\n",
              " 'Mean Training Accuracy': 100.0,\n",
              " 'Training Precision scores': array([1., 1., 1., 1., 1., 1., 1., 1., 1., 1.]),\n",
              " 'Mean Training Precision': 1.0,\n",
              " 'Training Recall scores': array([1., 1., 1., 1., 1., 1., 1., 1., 1., 1.]),\n",
              " 'Mean Training Recall': 1.0,\n",
              " 'Training F1 scores': array([1., 1., 1., 1., 1., 1., 1., 1., 1., 1.]),\n",
              " 'Mean Training F1 Score': 1.0,\n",
              " 'Validation Accuracy scores': array([0.9969674 , 0.9969674 , 0.99620637, 0.99772382, 0.99620637,\n",
              "        0.99848255, 0.9969651 , 0.99620637, 0.9939302 , 0.9939302 ]),\n",
              " 'Mean Validation Accuracy': 99.63585785433165,\n",
              " 'Validation Precision scores': array([0.99697337, 0.99699801, 0.99621702, 0.99773102, 0.99622295,\n",
              "        0.99848255, 0.99696928, 0.99623153, 0.99393563, 0.99393666]),\n",
              " 'Mean Validation Precision': 0.9963698011792644,\n",
              " 'Validation Recall scores': array([0.9969674 , 0.9969674 , 0.99620637, 0.99772382, 0.99620637,\n",
              "        0.99848255, 0.9969651 , 0.99620637, 0.9939302 , 0.9939302 ]),\n",
              " 'Mean Validation Recall': 0.9963585785433164,\n",
              " 'Validation F1 scores': array([0.99696845, 0.99696883, 0.99620577, 0.99772262, 0.99620047,\n",
              "        0.99848255, 0.99696345, 0.99621315, 0.99392346, 0.9939315 ]),\n",
              " 'Mean Validation F1 Score': 0.9963580243085269}"
            ]
          },
          "execution_count": 47,
          "metadata": {},
          "output_type": "execute_result"
        }
      ],
      "source": [
        "MLP_result"
      ]
    },
    {
      "cell_type": "code",
      "execution_count": null,
      "metadata": {
        "id": "DnHwAIHkSbGZ"
      },
      "outputs": [],
      "source": [
        "# Function for plotting AUC ROC Curve \n",
        "def roc_curve_func(clf, X, y):\n",
        "    classes = ['CN', 'AD', 'LMCI', 'EMCI']\n",
        "    n_classes = y.shape[1]\n",
        "    mean_tpr = 0.0\n",
        "    mean_fpr = np.linspace(0, 1, 100)\n",
        "    all_tpr = []\n",
        "    aucs = []\n",
        "    fpr = dict()\n",
        "    tpr = dict()\n",
        "    roc_auc = dict()\n",
        "\n",
        "    # Plots the Probability Distributions and the ROC Curves One vs Rest\n",
        "    plt.figure(figsize = (12, 10))\n",
        "    \n",
        "    \n",
        "    x_train, x_test, y_train, y_test =  train_test_split(X, y, test_size=0.2, random_state=0)\n",
        "\n",
        "    probas_ = clf.fit(x_train, y_train).predict_proba(x_test)\n",
        "\n",
        "    for i in range(n_classes):\n",
        "        fpr[i], tpr[i], _ = roc_curve(y_test[:, i], probas_[:, i])\n",
        "        roc_auc[i] = auc(fpr[i], tpr[i])\n",
        "\n",
        "    # Compute micro-average ROC curve and ROC area\n",
        "    fpr[\"micro\"], tpr[\"micro\"], _ = roc_curve(y_test.ravel(), probas_.ravel())\n",
        "    roc_auc[\"micro\"] = auc(fpr[\"micro\"], tpr[\"micro\"])\n",
        "\n",
        "    # First aggregate all false positive rates\n",
        "    all_fpr = np.unique(np.concatenate([fpr[i] for i in range(n_classes)]))\n",
        "\n",
        "    # Then interpolate all ROC curves at this points\n",
        "    mean_tpr = np.zeros_like(all_fpr)\n",
        "    for i in range(n_classes):\n",
        "        mean_tpr += np.interp(all_fpr, fpr[i], tpr[i])\n",
        "\n",
        "    # Finally average it and compute AUC\n",
        "    mean_tpr /= n_classes\n",
        "\n",
        "    fpr[\"macro\"] = all_fpr\n",
        "    tpr[\"macro\"] = mean_tpr\n",
        "    roc_auc[\"macro\"] = auc(fpr[\"macro\"], tpr[\"macro\"])\n",
        "\n",
        "    # Plot all ROC curves\n",
        "    plt.figure()\n",
        "    plt.plot(\n",
        "        fpr[\"micro\"],\n",
        "        tpr[\"micro\"],\n",
        "        label=\"micro-average ROC curve (area = {0:0.2f})\".format(roc_auc[\"micro\"]),\n",
        "        color=\"deeppink\",\n",
        "        linestyle=\":\",\n",
        "        linewidth=4,\n",
        "    )\n",
        "\n",
        "    plt.plot(\n",
        "        fpr[\"macro\"],\n",
        "        tpr[\"macro\"],\n",
        "        label=\"macro-average ROC curve (area = {0:0.2f})\".format(roc_auc[\"macro\"]),\n",
        "        color=\"navy\",\n",
        "        linestyle=\":\",\n",
        "        linewidth=4,\n",
        "    )\n",
        "\n",
        "\n",
        "    lw = 2      \n",
        "    colors = cycle([\"aqua\", \"darkorange\", \"cornflowerblue\", \"green\"])\n",
        "    for i, color in zip(range(n_classes), colors):\n",
        "        plt.plot(\n",
        "            fpr[i],\n",
        "            tpr[i],\n",
        "            color=color,\n",
        "            lw=lw,\n",
        "            label=\"ROC curve of class {0} (area = {1:0.2f})\".format(classes[i], roc_auc[i]),\n",
        "        )\n",
        "\n",
        "    plt.plot([0, 1], [0, 1], \"k--\", lw=lw)\n",
        "    plt.xlim([0.0, 1.0])\n",
        "    plt.ylim([0.0, 1.05])\n",
        "    plt.xlabel(\"False Positive Rate\")\n",
        "    plt.ylabel(\"True Positive Rate\")\n",
        "    plt.title(\"ROC Curve\")\n",
        "    plt.legend(loc=\"lower right\")\n",
        "    plt.show()"
      ]
    },
    {
      "cell_type": "code",
      "execution_count": null,
      "metadata": {
        "id": "8aXGI0qCl1Md"
      },
      "outputs": [],
      "source": [
        "y = data[['DX_bl']]\n",
        "y = label_binarize(y, classes=[0,1,2,3])"
      ]
    },
    {
      "cell_type": "code",
      "execution_count": null,
      "metadata": {
        "colab": {
          "base_uri": "https://localhost:8080/",
          "height": 313
        },
        "id": "TTA91uDFl1Md",
        "outputId": "7fe53219-011d-4119-aa55-2bcc7f221aad"
      },
      "outputs": [
        {
          "output_type": "display_data",
          "data": {
            "text/plain": [
              "<Figure size 864x720 with 0 Axes>"
            ]
          },
          "metadata": {}
        },
        {
          "output_type": "display_data",
          "data": {
            "text/plain": [
              "<Figure size 432x288 with 1 Axes>"
            ],
            "image/png": "[encoded data removed]"
          },
          "metadata": {
            "needs_background": "light"
          }
        }
      ],
      "source": [
        "#Plot for Decision Tree Classifier\n",
        "roc_curve_func(clf1, X, y)"
      ]
    },
    {
      "cell_type": "code",
      "execution_count": null,
      "metadata": {
        "id": "XGyhorBal1Me"
      },
      "outputs": [],
      "source": [
        "#Plot for Support Vetctor Classifier\n",
        "roc_curve_func(clf2, X, y)"
      ]
    },
    {
      "cell_type": "code",
      "execution_count": null,
      "metadata": {
        "id": "U3_jmS39l1Me"
      },
      "outputs": [],
      "source": [
        "#Plot for XG Boost Classifier\n",
        "roc_curve_func(clf3, X, y)"
      ]
    },
    {
      "cell_type": "code",
      "execution_count": null,
      "metadata": {
        "id": "KFIdzJJKl1Mf"
      },
      "outputs": [],
      "source": [
        "#Plot for Random Forest Classifier\n",
        "roc_curve_func(clf4, X, y)"
      ]
    },
    {
      "cell_type": "code",
      "execution_count": null,
      "metadata": {
        "id": "aR7ivo7Tl1Mf"
      },
      "outputs": [],
      "source": [
        "#Plot for Multi-Layer Peceptron\n",
        "roc_curve_func(clf5, X, y)"
      ]
    }
  ],
  "metadata": {
    "colab": {
      "collapsed_sections": [
        "pTr0L0GZvsKl"
      ],
      "name": "adni_classification.ipynb",
      "provenance": []
    },
    "interpreter": {
      "hash": "321a562c32c1ef0f4d1bce6724f96cbf5562b75820608d2935414fe72bdf9c83"
    },
    "kernelspec": {
      "display_name": "Python 3 (ipykernel)",
      "language": "python",
      "name": "python3"
    },
    "language_info": {
      "codemirror_mode": {
        "name": "ipython",
        "version": 3
      },
      "file_extension": ".py",
      "mimetype": "text/x-python",
      "name": "python",
      "nbconvert_exporter": "python",
      "pygments_lexer": "ipython3",
      "version": "3.8.5"
    }
  },
  "nbformat": 4,
  "nbformat_minor": 0
}